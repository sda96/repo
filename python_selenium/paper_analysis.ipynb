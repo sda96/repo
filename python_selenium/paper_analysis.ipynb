{
 "cells": [
  {
   "cell_type": "code",
   "execution_count": 1,
   "metadata": {},
   "outputs": [],
   "source": [
    "import pandas as pd\n",
    "import numpy as np\n",
    "from tqdm import tqdm \n",
    "import konlpy\n",
    "from konlpy.tag import Hannanum\n",
    "import sklearn\n",
    "from sklearn.feature_extraction.text import TfidfVectorizer\n",
    "import re\n",
    "okt = Hannanum()"
   ]
  },
  {
   "cell_type": "code",
   "execution_count": 2,
   "metadata": {},
   "outputs": [],
   "source": [
    "data = pd.read_excel(\"./sample200.xlsx\")"
   ]
  },
  {
   "cell_type": "code",
   "execution_count": 3,
   "metadata": {},
   "outputs": [],
   "source": [
    "target = pd.read_excel(\"./대상자.xlsx\")"
   ]
  },
  {
   "cell_type": "code",
   "execution_count": null,
   "metadata": {},
   "outputs": [],
   "source": [
    "data2 = pd.concat([target.대상자_1,data],axis=1 )\n",
    "del data2[\"Unnamed: 0\"]"
   ]
  },
  {
   "cell_type": "code",
   "execution_count": null,
   "metadata": {},
   "outputs": [],
   "source": [
    "data2.groupby(\"대상자_1\").count()"
   ]
  },
  {
   "cell_type": "code",
   "execution_count": 81,
   "metadata": {},
   "outputs": [
    {
     "name": "stderr",
     "output_type": "stream",
     "text": [
      "100%|████████████████████████████████████████████████████████████████████████████████| 200/200 [02:34<00:00,  1.30it/s]\n"
     ]
    }
   ],
   "source": [
    "data2 = pd.concat([target.대상자_1,data],axis=1 )\n",
    "del data2[\"Unnamed: 0\"]\n",
    "c = []\n",
    "#바로 형태소단위로 나누면 빈문장이 생기고 단어의 길이가 1개인 문장이 생기는 문제점이 발생하기에\n",
    "#본문내용을 문장단위로 나눈다음에 Hannum 형태소 분석기를 이용하겠습니다.\n",
    "for i in tqdm(range(0,200)):\n",
    "    #공고문 본문안에서 필요없는 내용 제외합니다.\n",
    "    b = re.sub(\"[\\n]+\",\"\\n\",data2[\"파일내용\"][i])\n",
    "    b = re.sub(\"[  ]+\",\" \",b)\n",
    "    b = re.sub(\"[<표>|<그림>]+\",\" \",b)\n",
    "    b = b.strip()\n",
    "    #본문내용을 문장단위로 나누어 리스트형태로 저장합니다.\n",
    "    b = b.split(\"\\n\")\n",
    "    #문장단위로 나누면서 생기는 빈문장을 제거합니다.\n",
    "    c = [x.strip() for x in b if x != ' ']\n",
    "    #문장내에서 한글을 제외한 요소를 제거하고 각 문장마다 형태소 분석기를 사용합니다.\n",
    "    aaa0 = list(map(lambda x: re.sub(\"[^ ㄱ-ㅣ가-힣]+\",\" \",x),c))\n",
    "    aaa0 = [x.strip() for x in aaa0 if x != '']\n",
    "    aaa0 = [okt.morphs(x) for x in aaa0]\n",
    "    sum0 = sum(aaa0,[])\n",
    "    #형태소 분석결과 나온 단어들중에서 단어의 길이가 1보다 작은건 빼겠습니다.\n",
    "    sum0 = [x for x in sum0 if len(x) > 1]\n",
    "    sum00 = \" \".join(sum0)\n",
    "    #전처리가 끝난 공고내용을 다시 dataframe에 저장하겠습니다.\n",
    "    data2[\"파일내용\"][i] = sum00"
   ]
  },
  {
   "cell_type": "code",
   "execution_count": null,
   "metadata": {},
   "outputs": [],
   "source": [
    "data2.to_excel(\"./전처리이후.xlsx\")"
   ]
  },
  {
   "cell_type": "code",
   "execution_count": 99,
   "metadata": {},
   "outputs": [],
   "source": [
    "data2 = pd.read_excel(\"./전처리이후.xlsx\",index=False)\n",
    "del data2[\"Unnamed: 0\"]"
   ]
  },
  {
   "cell_type": "code",
   "execution_count": 2,
   "metadata": {},
   "outputs": [],
   "source": [
    "from sklearn.metrics import classification_report, confusion_matrix\n",
    "from sklearn.model_selection import train_test_split\n",
    "from sklearn.tree import DecisionTreeClassifier\n",
    "from sklearn import tree\n",
    "from IPython.display import Image\n",
    "import os\n",
    "import pydotplus\n",
    "from sklearn import preprocessing\n",
    "from sklearn import utils"
   ]
  },
  {
   "cell_type": "code",
   "execution_count": 260,
   "metadata": {},
   "outputs": [],
   "source": [
    "#TD-IDF기법을 이용하여 문자형 자료를 벡터화 시키겠습니다\n",
    "#각 파라미터 max_features는 100개의 변수를 가지는 차원(행렬)을 만든다는 뜻입니다.\n",
    "#max_df는 상위 5%까지의 값을 가진 단어를 사용합니다.\n",
    "#TF-IDF의 최소값은 0까지 가능합니다.\n",
    "tfidf = TfidfVectorizer(max_features = 100,\n",
    "                        stop_words= [\"ㄴ다\",\"ㄴ다는\",\"ㅂ니다\",\"다만\",\"또는\",\"에게\",\n",
    "                                    \"으로\",\"습니다\",\"거나\",\"추진\",\"과제\",\"관리\",\n",
    "                                    \"수행\"])\n",
    "#독립변수 X\n",
    "X = tfidf.fit_transform(data2[\"파일내용\"]).toarray()\n",
    "#종속변수 Y\n",
    "Y = np.array(data2[\"대상자_1\"])\n",
    "#종속변수 Y를 의사결정모델에 인식하는 내용으로 인코딩을 합니다.\n",
    "# 1 = 소상공인\n",
    "# 2 = 연구기관\n",
    "# 3 = 중소기업\n",
    "# 0 = 미정\n",
    "lab_enc = preprocessing.LabelEncoder()\n",
    "Y = lab_enc.fit_transform(Y)"
   ]
  },
  {
   "cell_type": "code",
   "execution_count": 261,
   "metadata": {},
   "outputs": [
    {
     "name": "stdout",
     "output_type": "stream",
     "text": [
      "Accuracy: 0.83\n"
     ]
    }
   ],
   "source": [
    "#모델의 검증을 위하여 총 200개의 데이터를 훈련데이터와 테스트데이터를 1:1 비율로 나누겠습니다.\n",
    "# 훈련데이터 : 100개\n",
    "# 테스트데이터 : 100개\n",
    "X_train, X_test, y_train, y_test = train_test_split(X,Y,test_size=0.5,random_state=2020)\n",
    "#의사결정나무 모델을 사용하겟으며 가지를  나누는 기준은 entropy지수를 사용하고 나무의 깊이는\n",
    "#최대 4로 지정하겠습니다.\n",
    "dt_clf = DecisionTreeClassifier(criterion = \"entropy\",max_depth = 2,random_state=2020)\n",
    "#훈련데이터를 학습하는 함수입니다.\n",
    "dt_clf1 = dt_clf.fit(X_train, y_train)\n",
    "y_pred = dt_clf1.predict(X_test)\n",
    "from sklearn.metrics import accuracy_score\n",
    "print('Accuracy: %.2f' % accuracy_score(y_test, y_pred))"
   ]
  },
  {
   "cell_type": "code",
   "execution_count": 262,
   "metadata": {},
   "outputs": [
    {
     "name": "stdout",
     "output_type": "stream",
     "text": [
      "              precision    recall  f1-score   support\n",
      "\n",
      "          미정       0.00      0.00      0.00         1\n",
      "        소상공인       0.93      0.88      0.90        81\n",
      "        연구기관       0.50      0.71      0.59        17\n",
      "        중소기업       0.00      0.00      0.00         1\n",
      "\n",
      "    accuracy                           0.83       100\n",
      "   macro avg       0.36      0.40      0.37       100\n",
      "weighted avg       0.84      0.83      0.83       100\n",
      "\n"
     ]
    },
    {
     "name": "stderr",
     "output_type": "stream",
     "text": [
      "C:\\Users\\park\\Anaconda3\\envs\\crawler\\lib\\site-packages\\sklearn\\metrics\\_classification.py:1221: UndefinedMetricWarning: Precision and F-score are ill-defined and being set to 0.0 in labels with no predicted samples. Use `zero_division` parameter to control this behavior.\n",
      "  _warn_prf(average, modifier, msg_start, len(result))\n"
     ]
    }
   ],
   "source": [
    "print(classification_report(y_test, y_pred, target_names=['미정', '소상공인','연구기관','중소기업']))"
   ]
  },
  {
   "cell_type": "code",
   "execution_count": 263,
   "metadata": {},
   "outputs": [
    {
     "data": {
      "image/svg+xml": [
       "<?xml version=\"1.0\" encoding=\"UTF-8\" standalone=\"no\"?>\r\n",
       "<!DOCTYPE svg PUBLIC \"-//W3C//DTD SVG 1.1//EN\"\r\n",
       " \"http://www.w3.org/Graphics/SVG/1.1/DTD/svg11.dtd\">\r\n",
       "<!-- Generated by graphviz version 2.38.0 (20140413.2041)\r\n",
       " -->\r\n",
       "<!-- Title: Tree Pages: 1 -->\r\n",
       "<svg width=\"585pt\" height=\"314pt\"\r\n",
       " viewBox=\"0.00 0.00 585.00 314.00\" xmlns=\"http://www.w3.org/2000/svg\" xmlns:xlink=\"http://www.w3.org/1999/xlink\">\r\n",
       "<g id=\"graph0\" class=\"graph\" transform=\"scale(1 1) rotate(0) translate(4 310)\">\r\n",
       "<title>Tree</title>\r\n",
       "<polygon fill=\"white\" stroke=\"none\" points=\"-4,4 -4,-310 581,-310 581,4 -4,4\"/>\r\n",
       "<!-- 0 -->\r\n",
       "<g id=\"node1\" class=\"node\"><title>0</title>\r\n",
       "<path fill=\"#68ea5d\" stroke=\"black\" d=\"M345.5,-306C345.5,-306 224.5,-306 224.5,-306 218.5,-306 212.5,-300 212.5,-294 212.5,-294 212.5,-235 212.5,-235 212.5,-229 218.5,-223 224.5,-223 224.5,-223 345.5,-223 345.5,-223 351.5,-223 357.5,-229 357.5,-235 357.5,-235 357.5,-294 357.5,-294 357.5,-300 351.5,-306 345.5,-306\"/>\r\n",
       "<text text-anchor=\"start\" x=\"233.5\" y=\"-290.8\" font-family=\"Helvetica,sans-Serif\" font-size=\"14.00\">나라장터 ≤ 0.028</text>\r\n",
       "<text text-anchor=\"start\" x=\"235\" y=\"-275.8\" font-family=\"Helvetica,sans-Serif\" font-size=\"14.00\">entropy = 0.797</text>\r\n",
       "<text text-anchor=\"start\" x=\"237.5\" y=\"-260.8\" font-family=\"Helvetica,sans-Serif\" font-size=\"14.00\">samples = 100</text>\r\n",
       "<text text-anchor=\"start\" x=\"220.5\" y=\"-245.8\" font-family=\"Helvetica,sans-Serif\" font-size=\"14.00\">value = [1, 84, 12, 3]</text>\r\n",
       "<text text-anchor=\"start\" x=\"235\" y=\"-230.8\" font-family=\"Helvetica,sans-Serif\" font-size=\"14.00\">class = 소상공인</text>\r\n",
       "</g>\r\n",
       "<!-- 1 -->\r\n",
       "<g id=\"node2\" class=\"node\"><title>1</title>\r\n",
       "<path fill=\"#a5d2f3\" stroke=\"black\" d=\"M263,-187C263,-187 155,-187 155,-187 149,-187 143,-181 143,-175 143,-175 143,-116 143,-116 143,-110 149,-104 155,-104 155,-104 263,-104 263,-104 269,-104 275,-110 275,-116 275,-116 275,-175 275,-175 275,-181 269,-187 263,-187\"/>\r\n",
       "<text text-anchor=\"start\" x=\"151\" y=\"-171.8\" font-family=\"Helvetica,sans-Serif\" font-size=\"14.00\">부가가치세 ≤ 0.073</text>\r\n",
       "<text text-anchor=\"start\" x=\"159\" y=\"-156.8\" font-family=\"Helvetica,sans-Serif\" font-size=\"14.00\">entropy = 1.611</text>\r\n",
       "<text text-anchor=\"start\" x=\"165.5\" y=\"-141.8\" font-family=\"Helvetica,sans-Serif\" font-size=\"14.00\">samples = 14</text>\r\n",
       "<text text-anchor=\"start\" x=\"153\" y=\"-126.8\" font-family=\"Helvetica,sans-Serif\" font-size=\"14.00\">value = [1, 2, 8, 3]</text>\r\n",
       "<text text-anchor=\"start\" x=\"159\" y=\"-111.8\" font-family=\"Helvetica,sans-Serif\" font-size=\"14.00\">class = 연구기관</text>\r\n",
       "</g>\r\n",
       "<!-- 0&#45;&gt;1 -->\r\n",
       "<g id=\"edge1\" class=\"edge\"><title>0&#45;&gt;1</title>\r\n",
       "<path fill=\"none\" stroke=\"black\" d=\"M258.632,-222.907C252.914,-214.105 246.807,-204.703 240.902,-195.612\"/>\r\n",
       "<polygon fill=\"black\" stroke=\"black\" points=\"243.704,-193.5 235.321,-187.021 237.833,-197.313 243.704,-193.5\"/>\r\n",
       "<text text-anchor=\"middle\" x=\"230.126\" y=\"-207.775\" font-family=\"Helvetica,sans-Serif\" font-size=\"14.00\">True</text>\r\n",
       "</g>\r\n",
       "<!-- 4 -->\r\n",
       "<g id=\"node5\" class=\"node\"><title>4</title>\r\n",
       "<path fill=\"#50e643\" stroke=\"black\" d=\"M418.5,-187C418.5,-187 305.5,-187 305.5,-187 299.5,-187 293.5,-181 293.5,-175 293.5,-175 293.5,-116 293.5,-116 293.5,-110 299.5,-104 305.5,-104 305.5,-104 418.5,-104 418.5,-104 424.5,-104 430.5,-110 430.5,-116 430.5,-116 430.5,-175 430.5,-175 430.5,-181 424.5,-187 418.5,-187\"/>\r\n",
       "<text text-anchor=\"start\" x=\"323\" y=\"-171.8\" font-family=\"Helvetica,sans-Serif\" font-size=\"14.00\">업체 ≤ 0.155</text>\r\n",
       "<text text-anchor=\"start\" x=\"312\" y=\"-156.8\" font-family=\"Helvetica,sans-Serif\" font-size=\"14.00\">entropy = 0.271</text>\r\n",
       "<text text-anchor=\"start\" x=\"318.5\" y=\"-141.8\" font-family=\"Helvetica,sans-Serif\" font-size=\"14.00\">samples = 86</text>\r\n",
       "<text text-anchor=\"start\" x=\"301.5\" y=\"-126.8\" font-family=\"Helvetica,sans-Serif\" font-size=\"14.00\">value = [0, 82, 4, 0]</text>\r\n",
       "<text text-anchor=\"start\" x=\"312\" y=\"-111.8\" font-family=\"Helvetica,sans-Serif\" font-size=\"14.00\">class = 소상공인</text>\r\n",
       "</g>\r\n",
       "<!-- 0&#45;&gt;4 -->\r\n",
       "<g id=\"edge4\" class=\"edge\"><title>0&#45;&gt;4</title>\r\n",
       "<path fill=\"none\" stroke=\"black\" d=\"M311.715,-222.907C317.508,-214.105 323.695,-204.703 329.678,-195.612\"/>\r\n",
       "<polygon fill=\"black\" stroke=\"black\" points=\"332.759,-197.298 335.332,-187.021 326.911,-193.45 332.759,-197.298\"/>\r\n",
       "<text text-anchor=\"middle\" x=\"340.381\" y=\"-207.806\" font-family=\"Helvetica,sans-Serif\" font-size=\"14.00\">False</text>\r\n",
       "</g>\r\n",
       "<!-- 2 -->\r\n",
       "<g id=\"node3\" class=\"node\"><title>2</title>\r\n",
       "<path fill=\"#83c2ef\" stroke=\"black\" d=\"M116,-68C116,-68 12,-68 12,-68 6,-68 0,-62 0,-56 0,-56 0,-12 0,-12 0,-6 6,-0 12,-0 12,-0 116,-0 116,-0 122,-0 128,-6 128,-12 128,-12 128,-56 128,-56 128,-62 122,-68 116,-68\"/>\r\n",
       "<text text-anchor=\"start\" x=\"14\" y=\"-52.8\" font-family=\"Helvetica,sans-Serif\" font-size=\"14.00\">entropy = 0.845</text>\r\n",
       "<text text-anchor=\"start\" x=\"20.5\" y=\"-37.8\" font-family=\"Helvetica,sans-Serif\" font-size=\"14.00\">samples = 11</text>\r\n",
       "<text text-anchor=\"start\" x=\"8\" y=\"-22.8\" font-family=\"Helvetica,sans-Serif\" font-size=\"14.00\">value = [0, 0, 8, 3]</text>\r\n",
       "<text text-anchor=\"start\" x=\"14\" y=\"-7.8\" font-family=\"Helvetica,sans-Serif\" font-size=\"14.00\">class = 연구기관</text>\r\n",
       "</g>\r\n",
       "<!-- 1&#45;&gt;2 -->\r\n",
       "<g id=\"edge2\" class=\"edge\"><title>1&#45;&gt;2</title>\r\n",
       "<path fill=\"none\" stroke=\"black\" d=\"M155.007,-103.726C142.326,-94.1494 128.834,-83.9611 116.231,-74.4438\"/>\r\n",
       "<polygon fill=\"black\" stroke=\"black\" points=\"118.185,-71.533 108.095,-68.2996 113.966,-77.1191 118.185,-71.533\"/>\r\n",
       "</g>\r\n",
       "<!-- 3 -->\r\n",
       "<g id=\"node4\" class=\"node\"><title>3</title>\r\n",
       "<path fill=\"#a3f29c\" stroke=\"black\" d=\"M262,-68C262,-68 158,-68 158,-68 152,-68 146,-62 146,-56 146,-56 146,-12 146,-12 146,-6 152,-0 158,-0 158,-0 262,-0 262,-0 268,-0 274,-6 274,-12 274,-12 274,-56 274,-56 274,-62 268,-68 262,-68\"/>\r\n",
       "<text text-anchor=\"start\" x=\"160\" y=\"-52.8\" font-family=\"Helvetica,sans-Serif\" font-size=\"14.00\">entropy = 0.918</text>\r\n",
       "<text text-anchor=\"start\" x=\"170.5\" y=\"-37.8\" font-family=\"Helvetica,sans-Serif\" font-size=\"14.00\">samples = 3</text>\r\n",
       "<text text-anchor=\"start\" x=\"154\" y=\"-22.8\" font-family=\"Helvetica,sans-Serif\" font-size=\"14.00\">value = [1, 2, 0, 0]</text>\r\n",
       "<text text-anchor=\"start\" x=\"160\" y=\"-7.8\" font-family=\"Helvetica,sans-Serif\" font-size=\"14.00\">class = 소상공인</text>\r\n",
       "</g>\r\n",
       "<!-- 1&#45;&gt;3 -->\r\n",
       "<g id=\"edge3\" class=\"edge\"><title>1&#45;&gt;3</title>\r\n",
       "<path fill=\"none\" stroke=\"black\" d=\"M209.372,-103.726C209.447,-95.5175 209.526,-86.8595 209.602,-78.56\"/>\r\n",
       "<polygon fill=\"black\" stroke=\"black\" points=\"213.104,-78.3312 209.696,-68.2996 206.105,-78.2672 213.104,-78.3312\"/>\r\n",
       "</g>\r\n",
       "<!-- 5 -->\r\n",
       "<g id=\"node6\" class=\"node\"><title>5</title>\r\n",
       "<path fill=\"#49e53b\" stroke=\"black\" d=\"M418.5,-68C418.5,-68 305.5,-68 305.5,-68 299.5,-68 293.5,-62 293.5,-56 293.5,-56 293.5,-12 293.5,-12 293.5,-6 299.5,-0 305.5,-0 305.5,-0 418.5,-0 418.5,-0 424.5,-0 430.5,-6 430.5,-12 430.5,-12 430.5,-56 430.5,-56 430.5,-62 424.5,-68 418.5,-68\"/>\r\n",
       "<text text-anchor=\"start\" x=\"312\" y=\"-52.8\" font-family=\"Helvetica,sans-Serif\" font-size=\"14.00\">entropy = 0.094</text>\r\n",
       "<text text-anchor=\"start\" x=\"318.5\" y=\"-37.8\" font-family=\"Helvetica,sans-Serif\" font-size=\"14.00\">samples = 83</text>\r\n",
       "<text text-anchor=\"start\" x=\"301.5\" y=\"-22.8\" font-family=\"Helvetica,sans-Serif\" font-size=\"14.00\">value = [0, 82, 1, 0]</text>\r\n",
       "<text text-anchor=\"start\" x=\"312\" y=\"-7.8\" font-family=\"Helvetica,sans-Serif\" font-size=\"14.00\">class = 소상공인</text>\r\n",
       "</g>\r\n",
       "<!-- 4&#45;&gt;5 -->\r\n",
       "<g id=\"edge5\" class=\"edge\"><title>4&#45;&gt;5</title>\r\n",
       "<path fill=\"none\" stroke=\"black\" d=\"M362,-103.726C362,-95.5175 362,-86.8595 362,-78.56\"/>\r\n",
       "<polygon fill=\"black\" stroke=\"black\" points=\"365.5,-78.2996 362,-68.2996 358.5,-78.2996 365.5,-78.2996\"/>\r\n",
       "</g>\r\n",
       "<!-- 6 -->\r\n",
       "<g id=\"node7\" class=\"node\"><title>6</title>\r\n",
       "<path fill=\"#399de5\" stroke=\"black\" d=\"M565,-68C565,-68 461,-68 461,-68 455,-68 449,-62 449,-56 449,-56 449,-12 449,-12 449,-6 455,-0 461,-0 461,-0 565,-0 565,-0 571,-0 577,-6 577,-12 577,-12 577,-56 577,-56 577,-62 571,-68 565,-68\"/>\r\n",
       "<text text-anchor=\"start\" x=\"471\" y=\"-52.8\" font-family=\"Helvetica,sans-Serif\" font-size=\"14.00\">entropy = 0.0</text>\r\n",
       "<text text-anchor=\"start\" x=\"473.5\" y=\"-37.8\" font-family=\"Helvetica,sans-Serif\" font-size=\"14.00\">samples = 3</text>\r\n",
       "<text text-anchor=\"start\" x=\"457\" y=\"-22.8\" font-family=\"Helvetica,sans-Serif\" font-size=\"14.00\">value = [0, 0, 3, 0]</text>\r\n",
       "<text text-anchor=\"start\" x=\"463\" y=\"-7.8\" font-family=\"Helvetica,sans-Serif\" font-size=\"14.00\">class = 연구기관</text>\r\n",
       "</g>\r\n",
       "<!-- 4&#45;&gt;6 -->\r\n",
       "<g id=\"edge6\" class=\"edge\"><title>4&#45;&gt;6</title>\r\n",
       "<path fill=\"none\" stroke=\"black\" d=\"M418.227,-103.726C431.559,-94.0582 445.751,-83.767 458.982,-74.172\"/>\r\n",
       "<polygon fill=\"black\" stroke=\"black\" points=\"461.039,-77.0036 467.08,-68.2996 456.93,-71.3368 461.039,-77.0036\"/>\r\n",
       "</g>\r\n",
       "</g>\r\n",
       "</svg>\r\n"
      ],
      "text/plain": [
       "<graphviz.files.Source at 0x15d75c44550>"
      ]
     },
     "execution_count": 263,
     "metadata": {},
     "output_type": "execute_result"
    }
   ],
   "source": [
    "import graphviz\n",
    "dot_data = tree.export_graphviz(dt_clf1,\n",
    "                                out_file=None,\n",
    "                                feature_names=tfidf.get_feature_names(),\n",
    "                                class_names=[\"미정\",\"소상공인\",\"연구기관\",\"중소기업\"],\n",
    "                                filled=True,\n",
    "                                rounded=True,\n",
    "                                special_characters=True)  \n",
    "graph = graphviz.Source(dot_data)\n",
    "graph"
   ]
  },
  {
   "cell_type": "code",
   "execution_count": 11,
   "metadata": {},
   "outputs": [],
   "source": [
    "import os\n",
    "os.environ[\"PATH\"] += os.pathsep + \"C:/Program Files (x86)/Graphviz2.38/bin/\""
   ]
  },
  {
   "cell_type": "code",
   "execution_count": 25,
   "metadata": {},
   "outputs": [],
   "source": [
    "da = pd.read_excel(\"./process1383.xlsx\",index=False)"
   ]
  },
  {
   "cell_type": "code",
   "execution_count": 117,
   "metadata": {},
   "outputs": [],
   "source": [
    "data3 = da.sample(300,random_state=2020).reset_index()\n",
    "data4 = da.sample(300,random_state=2020).reset_index()"
   ]
  },
  {
   "cell_type": "code",
   "execution_count": 27,
   "metadata": {},
   "outputs": [
    {
     "name": "stderr",
     "output_type": "stream",
     "text": [
      "  0%|                                                                                          | 0/300 [00:00<?, ?it/s]C:\\Users\\park\\Anaconda3\\envs\\crawler\\lib\\site-packages\\ipykernel_launcher.py:23: SettingWithCopyWarning: \n",
      "A value is trying to be set on a copy of a slice from a DataFrame\n",
      "\n",
      "See the caveats in the documentation: https://pandas.pydata.org/pandas-docs/stable/user_guide/indexing.html#returning-a-view-versus-a-copy\n",
      "100%|████████████████████████████████████████████████████████████████████████████████| 300/300 [04:05<00:00,  1.22it/s]\n"
     ]
    }
   ],
   "source": [
    "c = []\n",
    "#바로 형태소단위로 나누면 빈문장이 생기고 단어의 길이가 1개인 문장이 생기는 문제점이 발생하기에\n",
    "#본문내용을 문장단위로 나눈다음에 Hannum 형태소 분석기를 이용하겠습니다.\n",
    "for i in tqdm(range(len(data3))):\n",
    "    #공고문 본문안에서 필요없는 내용 제외합니다.\n",
    "    b = re.sub(\"[\\n]+\",\"\\n\",data3[\"파일내용\"][i])\n",
    "    b = re.sub(\"[  ]+\",\" \",b)\n",
    "    b = re.sub(\"[<표>|<그림>]+\",\" \",b)\n",
    "    b = b.strip()\n",
    "    #본문내용을 문장단위로 나누어 리스트형태로 저장합니다.\n",
    "    b = b.split(\"\\n\")\n",
    "    #문장단위로 나누면서 생기는 빈문장을 제거합니다.\n",
    "    c = [x.strip() for x in b if x != ' ']\n",
    "    #문장내에서 한글을 제외한 요소를 제거하고 각 문장마다 형태소 분석기를 사용합니다.\n",
    "    aaa0 = list(map(lambda x: re.sub(\"[^ ㄱ-ㅣ가-힣]+\",\" \",x),c))\n",
    "    aaa0 = [x.strip() for x in aaa0 if x != '']\n",
    "    aaa0 = [okt.morphs(x) for x in aaa0]\n",
    "    sum0 = sum(aaa0,[])\n",
    "    #형태소 분석결과 나온 단어들중에서 단어의 길이가 1보다 작은건 빼겠습니다.\n",
    "    sum0 = [x for x in sum0 if len(x) > 1]\n",
    "    sum00 = \" \".join(sum0)\n",
    "    #전처리가 끝난 공고내용을 다시 dataframe에 저장하겠습니다.\n",
    "    data3[\"파일내용\"][i] = sum00"
   ]
  },
  {
   "cell_type": "code",
   "execution_count": 139,
   "metadata": {},
   "outputs": [],
   "source": [
    "X3 = tfidf.fit_transform(data3[\"파일내용\"]).toarray()"
   ]
  },
  {
   "cell_type": "code",
   "execution_count": 158,
   "metadata": {},
   "outputs": [
    {
     "data": {
      "text/plain": [
       "array(['소상공인', '중소기업', '소상공인', '소상공인', '소상공인', '소상공인', '소상공인', '소상공인',\n",
       "       '소상공인', '소상공인', '소상공인', '소상공인', '소상공인', '소상공인', '연구기관', '소상공인',\n",
       "       '소상공인', '중소기업', '소상공인', '소상공인', '소상공인', '소상공인', '소상공인', '중소기업',\n",
       "       '소상공인', '소상공인', '소상공인', '소상공인', '소상공인', '중소기업', '소상공인', '연구기관',\n",
       "       '연구기관', '소상공인', '소상공인', '소상공인', '소상공인', '소상공인', '소상공인', '연구기관',\n",
       "       '소상공인', '소상공인', '연구기관', '중소기업', '소상공인', '소상공인', '소상공인', '연구기관',\n",
       "       '연구기관', '소상공인', '중소기업', '소상공인', '소상공인', '소상공인', '소상공인', '중소기업',\n",
       "       '소상공인', '소상공인', '소상공인', '소상공인', '소상공인', '소상공인', '소상공인', '소상공인',\n",
       "       '중소기업', '소상공인', '중소기업', '소상공인', '연구기관', '중소기업', '연구기관', '소상공인',\n",
       "       '중소기업', '소상공인', '소상공인', '소상공인', '소상공인', '연구기관', '소상공인', '소상공인',\n",
       "       '중소기업', '중소기업', '중소기업', '소상공인', '소상공인', '중소기업', '소상공인', '소상공인',\n",
       "       '중소기업', '소상공인', '소상공인', '소상공인', '소상공인', '소상공인', '소상공인', '소상공인',\n",
       "       '연구기관', '소상공인', '소상공인', '소상공인', '중소기업', '연구기관', '중소기업', '소상공인',\n",
       "       '소상공인', '소상공인', '소상공인', '소상공인', '소상공인', '소상공인', '소상공인', '소상공인',\n",
       "       '소상공인', '소상공인', '소상공인', '소상공인', '소상공인', '소상공인', '소상공인', '소상공인',\n",
       "       '중소기업', '소상공인', '소상공인', '소상공인', '연구기관', '소상공인', '소상공인', '소상공인',\n",
       "       '중소기업', '소상공인', '소상공인', '소상공인', '소상공인', '소상공인', '소상공인', '연구기관',\n",
       "       '소상공인', '소상공인', '소상공인', '소상공인', '소상공인', '소상공인', '중소기업', '소상공인',\n",
       "       '소상공인', '소상공인', '소상공인', '중소기업', '소상공인', '소상공인', '연구기관', '소상공인',\n",
       "       '소상공인', '중소기업', '연구기관', '소상공인', '중소기업', '연구기관', '소상공인', '연구기관',\n",
       "       '소상공인', '소상공인', '중소기업', '소상공인', '소상공인', '소상공인', '소상공인', '소상공인',\n",
       "       '연구기관', '중소기업', '소상공인', '소상공인', '소상공인', '소상공인', '소상공인', '연구기관',\n",
       "       '소상공인', '소상공인', '소상공인', '소상공인', '소상공인', '중소기업', '소상공인', '소상공인',\n",
       "       '중소기업', '소상공인', '중소기업', '소상공인', '중소기업', '소상공인', '소상공인', '소상공인',\n",
       "       '소상공인', '중소기업', '중소기업', '연구기관', '연구기관', '소상공인', '소상공인', '소상공인',\n",
       "       '중소기업', '소상공인', '중소기업', '소상공인', '소상공인', '소상공인', '연구기관', '소상공인',\n",
       "       '소상공인', '소상공인', '소상공인', '중소기업', '연구기관', '소상공인', '소상공인', '소상공인',\n",
       "       '연구기관', '중소기업', '중소기업', '소상공인', '소상공인', '중소기업', '소상공인', '중소기업',\n",
       "       '연구기관', '소상공인', '연구기관', '소상공인', '소상공인', '소상공인', '소상공인', '소상공인',\n",
       "       '소상공인', '중소기업', '소상공인', '소상공인', '소상공인', '소상공인', '소상공인', '중소기업',\n",
       "       '소상공인', '소상공인', '소상공인', '소상공인', '중소기업', '소상공인', '소상공인', '소상공인',\n",
       "       '소상공인', '소상공인', '연구기관', '중소기업', '소상공인', '소상공인', '연구기관', '소상공인',\n",
       "       '소상공인', '소상공인', '소상공인', '소상공인', '소상공인', '소상공인', '소상공인', '소상공인',\n",
       "       '중소기업', '중소기업', '연구기관', '연구기관', '소상공인', '소상공인', '소상공인', '소상공인',\n",
       "       '소상공인', '소상공인', '소상공인', '소상공인', '연구기관', '소상공인', '소상공인', '소상공인',\n",
       "       '소상공인', '소상공인', '소상공인', '중소기업', '소상공인', '소상공인', '연구기관', '중소기업',\n",
       "       '연구기관', '소상공인', '소상공인', '소상공인', '소상공인', '소상공인', '소상공인', '소상공인',\n",
       "       '연구기관', '소상공인', '중소기업', '소상공인'], dtype=object)"
      ]
     },
     "execution_count": 158,
     "metadata": {},
     "output_type": "execute_result"
    }
   ],
   "source": [
    "p_X = dt_clf1.predict(X3)\n",
    "lab_enc.inverse_transform(p_X)"
   ]
  },
  {
   "cell_type": "code",
   "execution_count": 159,
   "metadata": {},
   "outputs": [
    {
     "data": {
      "text/plain": [
       "소상공인    217\n",
       "중소기업     48\n",
       "연구기관     35\n",
       "dtype: int64"
      ]
     },
     "execution_count": 159,
     "metadata": {},
     "output_type": "execute_result"
    }
   ],
   "source": [
    "pd.Series(lab_enc.inverse_transform(p_X)).value_counts()"
   ]
  },
  {
   "cell_type": "code",
   "execution_count": 165,
   "metadata": {},
   "outputs": [
    {
     "data": {
      "text/plain": [
       "(array([ 14,  31,  32,  39,  42,  47,  48,  68,  70,  77,  96, 101, 124,\n",
       "        135, 150, 154, 157, 159, 168, 175, 195, 196, 206, 212, 216, 224,\n",
       "        226, 250, 254, 266, 267, 276, 286, 288, 296], dtype=int64),)"
      ]
     },
     "execution_count": 165,
     "metadata": {},
     "output_type": "execute_result"
    }
   ],
   "source": [
    "np.where(p_X == 2 )"
   ]
  },
  {
   "cell_type": "code",
   "execution_count": 166,
   "metadata": {},
   "outputs": [
    {
     "data": {
      "text/plain": [
       "<re.Match object; span=(35, 37), match='과제'>"
      ]
     },
     "execution_count": 166,
     "metadata": {},
     "output_type": "execute_result"
    }
   ],
   "source": [
    "k = 14\n",
    "re.search(\"과제\",data4[\"파일내용\"][k])"
   ]
  },
  {
   "cell_type": "code",
   "execution_count": 164,
   "metadata": {},
   "outputs": [
    {
     "name": "stdout",
     "output_type": "stream",
     "text": [
      "\n",
      "<표>\n",
      "\n",
      "\n",
      "용역 수의계약 견적제출 안내 공고\n",
      " \n",
      "  \n",
      "1. 견적제출에 부치는 사항  \n",
      "   가. 용 역 명 : 2030 김해시 환경보전계획 수립 연구용역\n",
      "   \n",
      "나. 용역개요 : 환경보전계획 수립용역 1식\n",
      "   다. 용역기간 : 착수일로부터 240일\n",
      "   라.\n",
      "\n",
      "\n",
      "\n",
      " 용 역 비 : 금54,760,000원(금오천사백칠십육만원) ※ 부가세포함\n",
      "   \n",
      "마. 기초금액 : 금54,760,000원(금오천사백칠십육만원)\n",
      "    ※ 상기 기초금액은 부가세가 포함된 금액으로 입찰참여 업체는 부가세를  포함한 가격으로 입찰하여야 하며, 면세사업자는 낙찰금액에서 부가세를 제외한 금액으로 계약 체결합니다.     \n",
      "    ※ 상세 내역은 용역감독관과 상의하시기(표혜진, 055-330-2445) 바라며, 투찰 전 설계서(시방서)등을 반드시 확인(열람)후 응찰하고, 확인하지 아니하여 발생하는 책임은 투찰자에게 있습니다.\n",
      "\n",
      "2. 견적서 제출기간 : 2020. 4. 27.(월) 16:00 ~ 5. 4.(월) 16:00\n",
      "   ※ 투찰마감시간이 임박하여 투찰할 경우 여러 업체의 집중 투찰로 인하여 정상적인        투찰이 불가한 경우가 종종 발생되오니 가급적 투찰마감 2시간 이전에 투찰하시기        바랍니다.\n",
      "\n",
      "3. 개찰일시 및 장소 : 2020. 5. 4.(월) 17:00 이후 우리시 입찰집행관 PC\n",
      "\n",
      "4. 견적제출자 참가자격\n",
      "  가. 지방자치단체를 당사자로 하는 계약에 관한 법률 시행령 제13조 및 동법 시행규칙 제14조의 규정에 따른 자격요건을 갖춘 업체이어야 하며, 입찰공고일 전일 현재 법인등기부상 본점 소재지(개인사업자인 경우에는 사업자등록증 또는 관련 법령에 따른 허가․인가․면허․등록․신고 등에 관련된 서류에 기재된 사업장의 소재지)가 경상남도이어야 하고, 입찰일(낙찰자는 계약일)까지 당해 자격을 유지하여야 합니다.\n",
      "나.「국가종합전자조달시스템 입찰참가자격등록규정」에 의하여 반드시 나라장터(G2B)에 입찰서 제출 마감일 전일까지 학술․연구용역기관(업종코드:1169)으로 입찰참가자격을 등록한 업체로 5년이내 환경보전 계획수립 연구용역 1건이상 준공실적이 있는 업체 ※ 실적이 있는 업체는 반드시 투찰 전 담당부서(055-330-2445: 표혜진)로 확인후 투찰 하시기 바랍니다.\n",
      " 다. 중소기업제품 구매촉진 및 판로지원에 관한 법률 제2조 2제1항」에 의한 소기업, 소상공인으로,「중소기업 범위 및  확인에 관한 규정」에 따라 발급된 소기업․소상공인 확인서를 소지한 업체\n",
      "     ※ 중소기업확인서는 적격심사 서류제출 마감일까지 발급된 것으로 유효기간 내에  있어야 함.\n",
      "     ※ 비영리법인과 체결 시 위 적용을 받지 않습니다.(단, 비영리법인도 부가세를 포함하여 가격입찰서를 작성하여 제출하며, 계약 시 부가세 제외 후 계약)\n",
      " 라. 본 용역은 전자입찰방식으로 집행되므로 조달청 전자입찰 이용자 등록을 필한 업체이어야 하며, 미등록업체는 입찰집행일 전일까지 조달청 조달서비스센터 또는 각 지방조달청에 입찰참가 이용자등록을 하여야 합니다.\n",
      "\n",
      "5. 입찰 및 낙찰방법 : 전자입찰, 총액입찰\n",
      "\n",
      "6. 입찰서 제출 : 반드시 조달청 전자입찰 홈페이지의 전자입찰시스템을 이용하여 제출     하여야 하며, 입찰서 제출확인은 조달청 전자입찰시스템의 웹 송신함에서 확인하시기       바랍니다.\n",
      "\n",
      "7. 예정가격 및 낙찰자결정\n",
      "   가. 예정가격은 기초금액을 기준으로 ± 3％범위 내에서 복수예비가격 15개를 작성, 입찰에 참여하는 각 업체가 추첨(2개씩 선택)한 번호 중 가장 많이 선택된 4개의 복수예비가격을 산술 평균한 금액으로 결정됩니다.【낙찰하한율 : 88%】 \n",
      "   나. 계약상대자 결정은 지방자치단체 수의계약 운영요령에 의거 예정가격 대비 낙찰하한율 이상 최저가격으로 견적서를 제출한 자 순서에 따라 지방자치단체 수의계약 운영요령의 결격사유 중 어느 하나에도 해당되지 않는 자를 계약상대자(낙찰자)로 결정하며, 동일가격 견적자가 2인 이상인 경우에는  전자조달시스템을 통해 자동으로 추첨하는 방식을 적용하여 결정합니다.\n",
      "       (1순위자가 소액수의계약(행정안전부 예규 제90호) 결격사유에 해당되어 계약 체결이 불가할 경우(포기서 제출자를 포함함)에는 재공고하지 않고 차순위자 순으로 소액수의계약 결격사유 해당 여부를 추가 심사하여 계약상대자를 결정)\n",
      "     ※ 1순위 낙찰자라 할지라도 계약서류 및 자격요건을 확인하여 입찰참가자격이 없는    업체일 경우 최종낙찰자 결정시 제외합니다.\n",
      "       낙찰자 통보는 별도의 공문을 송부하지 아니하며, 낙찰자 선정일을 통보일로 간주함.\n",
      "\n",
      "   다. 계약상대자 결정과 관련하여 본 공고문에 명시되지 아니한 사항은 지방자치단체 수의계약 운영요령 및 다른 법령의 규정에 따라 처리합니다.\n",
      "\n",
      "8. 적격심사기준 및 입찰에 관한 서류 열람\n",
      "   가. 적격심사는 생략합니다.\n",
      "   나. 입찰에 관한 서류는 입찰공고일로부터 전자입찰 마감일시까지 우리시 회계과  또는 수질환경과에서 열람하시기 바랍니다.\n",
      "   다. 입찰참가자는 시방서 및 특별시방서, 지방자치단체 입찰시 낙찰자 결정기준, 지방자치단체 입찰 및 계약집행기준, 수의계약운영요령, 용역계약일반조건, 특수조건, 국가종합전자조달시스템 전자입찰특별유의서, 설계서 등 입찰에 필요한 모든 사항을 완전히 숙지하고 입찰에 응하여야 하며, 이를 숙지하지 못하여 발생한 불이익은 입찰참가자에게 있습니다.\n",
      "\n",
      "9. 입찰보증금 납부 및 국고귀속 : 지방자치단체를 당사자로 하는 계약에 관한 법률 시행령 제37조 및 제38조 규정에 의하여 입찰보증금 납부는 조달청 전자입찰서의 납부 이행 각서로 갈음하며, 입찰보증금의 귀속은 시행령 제38조의 규정에 의합니다.\n",
      "\n",
      "10. 입찰무효 : 지방자치단체를 당사자로 하는 계약에 관한 법률 제33조 시행령 제39조 및 동법 시행규칙 제42조, 지방자치단체 입찰 및 계약집행기준, 용역전자입찰특별유의서에 의합니다.\n",
      "\n",
      "11. 계약체결 및 낙찰취소 : 낙찰자는 낙찰일로부터 10일 이내 계약하여야 합니다.\n",
      "    낙찰자가 정당한 이유 없이 계약기간 동안 계약을 체결하지 아니할 때에는 낙찰 취소\n",
      "    조치 등을 받게 되며 3개월 이내 우리시와 수의계약(수의견적입찰 포함)을\n"
     ]
    }
   ],
   "source": [
    "print(data4[\"파일내용\"][k][:3025])\n",
    "#'    소: 연 락 처: \\n\\n\\n  한국장례문화진흥원이 추진'"
   ]
  },
  {
   "cell_type": "code",
   "execution_count": 126,
   "metadata": {},
   "outputs": [
    {
     "name": "stdout",
     "output_type": "stream",
     "text": [
      "Python 3.7.3\n"
     ]
    }
   ],
   "source": [
    "!python --version"
   ]
  }
 ],
 "metadata": {
  "kernelspec": {
   "display_name": "crawler",
   "language": "python",
   "name": "crawler"
  },
  "language_info": {
   "codemirror_mode": {
    "name": "ipython",
    "version": 3
   },
   "file_extension": ".py",
   "mimetype": "text/x-python",
   "name": "python",
   "nbconvert_exporter": "python",
   "pygments_lexer": "ipython3",
   "version": "3.7.3"
  }
 },
 "nbformat": 4,
 "nbformat_minor": 4
}
