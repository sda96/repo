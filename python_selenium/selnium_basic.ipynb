{
 "cells": [
  {
   "cell_type": "code",
   "execution_count": 2,
   "metadata": {},
   "outputs": [],
   "source": [
    "import selenium\n",
    "from selenium import webdriver\n",
    "import pandas as pd"
   ]
  },
  {
   "cell_type": "code",
   "execution_count": 15,
   "metadata": {},
   "outputs": [],
   "source": [
    "global driver\n",
    "driver = webdriver.Chrome(\"./chromedriver.exe\")\n",
    "driver.get(\"https://www.ntis.go.kr/rndgate/eg/un/ra/mng.do\")"
   ]
  },
  {
   "cell_type": "code",
   "execution_count": 21,
   "metadata": {},
   "outputs": [],
   "source": [
    "def search(co):\n",
    "    import re\n",
    "    le = \"[%s]\"%co\n",
    "    cd = re.compile(le)\n",
    "    a = driver.find_element_by_css_selector(\"#rndListArea > table > tbody\")\n",
    "    b = a.find_elements_by_css_selector(\"a\")\n",
    "    c = [x.text for x in b]\n",
    "    d = pd.DataFrame({\"제목\":c})\n",
    "    for i in range(0,10):\n",
    "        if cd.search(d.제목[i]):\n",
    "            print(d.제목[i])"
   ]
  },
  {
   "cell_type": "code",
   "execution_count": 24,
   "metadata": {},
   "outputs": [],
   "source": [
    "co = \"연구\""
   ]
  },
  {
   "cell_type": "code",
   "execution_count": 25,
   "metadata": {},
   "outputs": [
    {
     "name": "stdout",
     "output_type": "stream",
     "text": [
      "국가화재안전기준 성능 및 기술기준 이원화에 따른 기준개발 연구\n",
      "여성 AI 인력양성 및 활용방안 연구 용역\n",
      "연구용역 입찰공고(뉴스데이터를 활용한 제조업 주요 업종별 경기동향조사)\n",
      "국가중요시설 방호체계 진단 및 평가 연구 용역 공고\n",
      "음식점 등 주방화재 관련 소화설비 설치개선 방안 연구 용역(사전규격공개)\n",
      "인천전략이행기금사업 평가 및 장애포괄적 국제개발협력 지속 방안 연구_재공고\n"
     ]
    }
   ],
   "source": [
    "search(co)"
   ]
  }
 ],
 "metadata": {
  "kernelspec": {
   "display_name": "Python 3",
   "language": "python",
   "name": "python3"
  },
  "language_info": {
   "codemirror_mode": {
    "name": "ipython",
    "version": 3
   },
   "file_extension": ".py",
   "mimetype": "text/x-python",
   "name": "python",
   "nbconvert_exporter": "python",
   "pygments_lexer": "ipython3",
   "version": "3.7.4"
  }
 },
 "nbformat": 4,
 "nbformat_minor": 4
}
